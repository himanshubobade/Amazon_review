{
 "cells": [
  {
   "cell_type": "code",
   "execution_count": 1,
   "id": "d5d4fe43",
   "metadata": {},
   "outputs": [],
   "source": [
    "transition_counts = {}  # To count transitions\n",
    "emission_counts = {}    # To count emissions"
   ]
  },
  {
   "cell_type": "code",
   "execution_count": 2,
   "id": "fbccce08",
   "metadata": {},
   "outputs": [],
   "source": [
    "data = [{'index': 0,\n",
    "         'sentence': ['Pierre',\n",
    "           'Vinken',\n",
    "           ',',\n",
    "           '61',\n",
    "           'years',\n",
    "           'old',\n",
    "           ',',\n",
    "           'will',\n",
    "           'join',\n",
    "           'the',\n",
    "           'board',\n",
    "           'as',\n",
    "           'a',\n",
    "           'nonexecutive',\n",
    "           'director',\n",
    "           'Nov.',\n",
    "           '29',\n",
    "           '.'],\n",
    "         'labels': ['NNP',\n",
    "           'NNP',\n",
    "           ',',\n",
    "           'CD',\n",
    "           'NNS',\n",
    "           'JJ',\n",
    "           ',',\n",
    "           'MD',\n",
    "           'VB',\n",
    "           'DT',\n",
    "           'NN',\n",
    "           'IN',\n",
    "           'DT',\n",
    "           'JJ',\n",
    "           'NN',\n",
    "           'NNP',\n",
    "           'CD',\n",
    "           '.']}\n",
    "]\n",
    "\n"
   ]
  },
  {
   "cell_type": "code",
   "execution_count": 3,
   "id": "8620fa3c",
   "metadata": {},
   "outputs": [
    {
     "data": {
      "text/plain": [
       "list"
      ]
     },
     "execution_count": 3,
     "metadata": {},
     "output_type": "execute_result"
    }
   ],
   "source": [
    "type(data)"
   ]
  },
  {
   "cell_type": "code",
   "execution_count": 16,
   "id": "8aa39ff2",
   "metadata": {},
   "outputs": [
    {
     "name": "stdout",
     "output_type": "stream",
     "text": [
      "{'NNP': {'Pierre': 9, 'Vinken': 9, 'Nov.': 9}, ',': {',': 18}, 'CD': {'61': 9, '29': 9}, 'NNS': {'years': 9}, 'JJ': {'old': 9, 'nonexecutive': 9}, 'MD': {'will': 9}, 'VB': {'join': 9}, 'DT': {'the': 9, 'a': 9}, 'NN': {'board': 9, 'director': 9}, 'IN': {'as': 9}, '.': {'.': 9}}\n",
      "{'START': {'NNP': 8}, 'NNP': {'NNP': 9, ',': 9, 'CD': 9}, ',': {'CD': 9, 'MD': 9}, 'CD': {'NNS': 9, '.': 9}, 'NNS': {'JJ': 9}, 'JJ': {',': 9, 'NN': 9}, 'MD': {'VB': 9}, 'VB': {'DT': 9}, 'DT': {'NN': 9, 'JJ': 9}, 'NN': {'IN': 9, 'NNP': 9}, 'IN': {'DT': 9}}\n"
     ]
    }
   ],
   "source": [
    "for sentence_data in data:\n",
    "    sentence = sentence_data['sentence']\n",
    "    labels = sentence_data['labels']\n",
    "\n",
    "    # Iterate through the words and labels in the sentence\n",
    "    for i in range(len(sentence)):\n",
    "        word = sentence[i]\n",
    "        label = labels[i]\n",
    "\n",
    "        # Update emission counts\n",
    "        if label not in emission_counts:\n",
    "            emission_counts[label] = {}\n",
    "        if word not in emission_counts[label]:\n",
    "            emission_counts[label][word] = 0\n",
    "        emission_counts[label][word] += 1\n",
    "\n",
    "        # Update transition counts\n",
    "        if i < len(labels) - 1:\n",
    "            next_label = labels[i + 1]\n",
    "            if label not in transition_counts:\n",
    "                transition_counts[label] = {}\n",
    "            if next_label not in transition_counts[label]:\n",
    "                transition_counts[label][next_label] = 0\n",
    "            transition_counts[label][next_label] += 1\n",
    "            \n",
    "            \n",
    "print(emission_counts)\n",
    "print(transition_counts)"
   ]
  },
  {
   "cell_type": "code",
   "execution_count": 15,
   "id": "416d789b",
   "metadata": {},
   "outputs": [
    {
     "name": "stdout",
     "output_type": "stream",
     "text": [
      ". .\n",
      "{'NNP': {'Pierre': 8, 'Vinken': 7, 'Nov.': 7}, ',': {',': 14}, 'CD': {'61': 7, '29': 7}, 'NNS': {'years': 7}, 'JJ': {'old': 7, 'nonexecutive': 7}, 'MD': {'will': 7}, 'VB': {'join': 7}, 'DT': {'the': 7, 'a': 7}, 'NN': {'board': 7, 'director': 7}, 'IN': {'as': 7}, '.': {'.': 7}}\n",
      "Pierre NNP\n",
      "{'NNP': {'Pierre': 8, 'Vinken': 8, 'Nov.': 7}, ',': {',': 14}, 'CD': {'61': 7, '29': 7}, 'NNS': {'years': 7}, 'JJ': {'old': 7, 'nonexecutive': 7}, 'MD': {'will': 7}, 'VB': {'join': 7}, 'DT': {'the': 7, 'a': 7}, 'NN': {'board': 7, 'director': 7}, 'IN': {'as': 7}, '.': {'.': 7}}\n",
      "Vinken NNP\n",
      "{'NNP': {'Pierre': 8, 'Vinken': 8, 'Nov.': 7}, ',': {',': 15}, 'CD': {'61': 7, '29': 7}, 'NNS': {'years': 7}, 'JJ': {'old': 7, 'nonexecutive': 7}, 'MD': {'will': 7}, 'VB': {'join': 7}, 'DT': {'the': 7, 'a': 7}, 'NN': {'board': 7, 'director': 7}, 'IN': {'as': 7}, '.': {'.': 7}}\n",
      ", ,\n",
      "{'NNP': {'Pierre': 8, 'Vinken': 8, 'Nov.': 7}, ',': {',': 15}, 'CD': {'61': 8, '29': 7}, 'NNS': {'years': 7}, 'JJ': {'old': 7, 'nonexecutive': 7}, 'MD': {'will': 7}, 'VB': {'join': 7}, 'DT': {'the': 7, 'a': 7}, 'NN': {'board': 7, 'director': 7}, 'IN': {'as': 7}, '.': {'.': 7}}\n",
      "61 CD\n",
      "{'NNP': {'Pierre': 8, 'Vinken': 8, 'Nov.': 7}, ',': {',': 15}, 'CD': {'61': 8, '29': 7}, 'NNS': {'years': 8}, 'JJ': {'old': 7, 'nonexecutive': 7}, 'MD': {'will': 7}, 'VB': {'join': 7}, 'DT': {'the': 7, 'a': 7}, 'NN': {'board': 7, 'director': 7}, 'IN': {'as': 7}, '.': {'.': 7}}\n",
      "years NNS\n",
      "{'NNP': {'Pierre': 8, 'Vinken': 8, 'Nov.': 7}, ',': {',': 15}, 'CD': {'61': 8, '29': 7}, 'NNS': {'years': 8}, 'JJ': {'old': 8, 'nonexecutive': 7}, 'MD': {'will': 7}, 'VB': {'join': 7}, 'DT': {'the': 7, 'a': 7}, 'NN': {'board': 7, 'director': 7}, 'IN': {'as': 7}, '.': {'.': 7}}\n",
      "old JJ\n",
      "{'NNP': {'Pierre': 8, 'Vinken': 8, 'Nov.': 7}, ',': {',': 16}, 'CD': {'61': 8, '29': 7}, 'NNS': {'years': 8}, 'JJ': {'old': 8, 'nonexecutive': 7}, 'MD': {'will': 7}, 'VB': {'join': 7}, 'DT': {'the': 7, 'a': 7}, 'NN': {'board': 7, 'director': 7}, 'IN': {'as': 7}, '.': {'.': 7}}\n",
      ", ,\n",
      "{'NNP': {'Pierre': 8, 'Vinken': 8, 'Nov.': 7}, ',': {',': 16}, 'CD': {'61': 8, '29': 7}, 'NNS': {'years': 8}, 'JJ': {'old': 8, 'nonexecutive': 7}, 'MD': {'will': 8}, 'VB': {'join': 7}, 'DT': {'the': 7, 'a': 7}, 'NN': {'board': 7, 'director': 7}, 'IN': {'as': 7}, '.': {'.': 7}}\n",
      "will MD\n",
      "{'NNP': {'Pierre': 8, 'Vinken': 8, 'Nov.': 7}, ',': {',': 16}, 'CD': {'61': 8, '29': 7}, 'NNS': {'years': 8}, 'JJ': {'old': 8, 'nonexecutive': 7}, 'MD': {'will': 8}, 'VB': {'join': 8}, 'DT': {'the': 7, 'a': 7}, 'NN': {'board': 7, 'director': 7}, 'IN': {'as': 7}, '.': {'.': 7}}\n",
      "join VB\n",
      "{'NNP': {'Pierre': 8, 'Vinken': 8, 'Nov.': 7}, ',': {',': 16}, 'CD': {'61': 8, '29': 7}, 'NNS': {'years': 8}, 'JJ': {'old': 8, 'nonexecutive': 7}, 'MD': {'will': 8}, 'VB': {'join': 8}, 'DT': {'the': 8, 'a': 7}, 'NN': {'board': 7, 'director': 7}, 'IN': {'as': 7}, '.': {'.': 7}}\n",
      "the DT\n",
      "{'NNP': {'Pierre': 8, 'Vinken': 8, 'Nov.': 7}, ',': {',': 16}, 'CD': {'61': 8, '29': 7}, 'NNS': {'years': 8}, 'JJ': {'old': 8, 'nonexecutive': 7}, 'MD': {'will': 8}, 'VB': {'join': 8}, 'DT': {'the': 8, 'a': 7}, 'NN': {'board': 8, 'director': 7}, 'IN': {'as': 7}, '.': {'.': 7}}\n",
      "board NN\n",
      "{'NNP': {'Pierre': 8, 'Vinken': 8, 'Nov.': 7}, ',': {',': 16}, 'CD': {'61': 8, '29': 7}, 'NNS': {'years': 8}, 'JJ': {'old': 8, 'nonexecutive': 7}, 'MD': {'will': 8}, 'VB': {'join': 8}, 'DT': {'the': 8, 'a': 7}, 'NN': {'board': 8, 'director': 7}, 'IN': {'as': 8}, '.': {'.': 7}}\n",
      "as IN\n",
      "{'NNP': {'Pierre': 8, 'Vinken': 8, 'Nov.': 7}, ',': {',': 16}, 'CD': {'61': 8, '29': 7}, 'NNS': {'years': 8}, 'JJ': {'old': 8, 'nonexecutive': 7}, 'MD': {'will': 8}, 'VB': {'join': 8}, 'DT': {'the': 8, 'a': 8}, 'NN': {'board': 8, 'director': 7}, 'IN': {'as': 8}, '.': {'.': 7}}\n",
      "a DT\n",
      "{'NNP': {'Pierre': 8, 'Vinken': 8, 'Nov.': 7}, ',': {',': 16}, 'CD': {'61': 8, '29': 7}, 'NNS': {'years': 8}, 'JJ': {'old': 8, 'nonexecutive': 8}, 'MD': {'will': 8}, 'VB': {'join': 8}, 'DT': {'the': 8, 'a': 8}, 'NN': {'board': 8, 'director': 7}, 'IN': {'as': 8}, '.': {'.': 7}}\n",
      "nonexecutive JJ\n",
      "{'NNP': {'Pierre': 8, 'Vinken': 8, 'Nov.': 7}, ',': {',': 16}, 'CD': {'61': 8, '29': 7}, 'NNS': {'years': 8}, 'JJ': {'old': 8, 'nonexecutive': 8}, 'MD': {'will': 8}, 'VB': {'join': 8}, 'DT': {'the': 8, 'a': 8}, 'NN': {'board': 8, 'director': 8}, 'IN': {'as': 8}, '.': {'.': 7}}\n",
      "director NN\n",
      "{'NNP': {'Pierre': 8, 'Vinken': 8, 'Nov.': 8}, ',': {',': 16}, 'CD': {'61': 8, '29': 7}, 'NNS': {'years': 8}, 'JJ': {'old': 8, 'nonexecutive': 8}, 'MD': {'will': 8}, 'VB': {'join': 8}, 'DT': {'the': 8, 'a': 8}, 'NN': {'board': 8, 'director': 8}, 'IN': {'as': 8}, '.': {'.': 7}}\n",
      "Nov. NNP\n",
      "{'NNP': {'Pierre': 8, 'Vinken': 8, 'Nov.': 8}, ',': {',': 16}, 'CD': {'61': 8, '29': 8}, 'NNS': {'years': 8}, 'JJ': {'old': 8, 'nonexecutive': 8}, 'MD': {'will': 8}, 'VB': {'join': 8}, 'DT': {'the': 8, 'a': 8}, 'NN': {'board': 8, 'director': 8}, 'IN': {'as': 8}, '.': {'.': 7}}\n",
      "29 CD\n",
      "{'NNP': {'Pierre': 8, 'Vinken': 8, 'Nov.': 8}, ',': {',': 16}, 'CD': {'61': 8, '29': 8}, 'NNS': {'years': 8}, 'JJ': {'old': 8, 'nonexecutive': 8}, 'MD': {'will': 8}, 'VB': {'join': 8}, 'DT': {'the': 8, 'a': 8}, 'NN': {'board': 8, 'director': 8}, 'IN': {'as': 8}, '.': {'.': 8}}\n",
      "['Pierre', 'Vinken', ',', '61', 'years', 'old', ',', 'will', 'join', 'the', 'board', 'as', 'a', 'nonexecutive', 'director', 'Nov.', '29', '.']\n",
      "['NNP', 'NNP', ',', 'CD', 'NNS', 'JJ', ',', 'MD', 'VB', 'DT', 'NN', 'IN', 'DT', 'JJ', 'NN', 'NNP', 'CD', '.']\n",
      "\n",
      "{'NNP': {'Pierre': 8, 'Vinken': 8, 'Nov.': 8}, ',': {',': 16}, 'CD': {'61': 8, '29': 8}, 'NNS': {'years': 8}, 'JJ': {'old': 8, 'nonexecutive': 8}, 'MD': {'will': 8}, 'VB': {'join': 8}, 'DT': {'the': 8, 'a': 8}, 'NN': {'board': 8, 'director': 8}, 'IN': {'as': 8}, '.': {'.': 8}}\n",
      "\n",
      "{'START': {'NNP': 8}, 'NNP': {'NNP': 8, ',': 8, 'CD': 8}, ',': {'CD': 8, 'MD': 8}, 'CD': {'NNS': 8, '.': 8}, 'NNS': {'JJ': 8}, 'JJ': {',': 8, 'NN': 8}, 'MD': {'VB': 8}, 'VB': {'DT': 8}, 'DT': {'NN': 8, 'JJ': 8}, 'NN': {'IN': 8, 'NNP': 8}, 'IN': {'DT': 8}}\n"
     ]
    }
   ],
   "source": [
    "for sentence_data in data:\n",
    "    sentence = sentence_data['sentence']\n",
    "    labels = sentence_data['labels']\n",
    "    \n",
    "#     print(len(sentence),len(labels))\n",
    "\n",
    "    #Iterate through the words and labels in the sentence\n",
    "    for i in range(len(sentence)):\n",
    "        print(word,label)\n",
    "        word = sentence[i]\n",
    "        label = labels[i]\n",
    "\n",
    "        # Update emission counts\n",
    "        if label not in emission_counts:\n",
    "            emission_counts[label] = {}\n",
    "        if word not in emission_counts[label]:\n",
    "            emission_counts[label][word] = 0\n",
    "        emission_counts[label][word] += 1\n",
    "        print(emission_counts)\n",
    "\n",
    "        # Update transition counts\n",
    "        if i == 0:\n",
    "            # Start of sentence transition\n",
    "            if 'START' not in transition_counts:\n",
    "                transition_counts['START'] = {}\n",
    "            if label not in transition_counts['START']:\n",
    "                transition_counts['START'][label] = 0\n",
    "            transition_counts['START'][label] += 1\n",
    "        else:\n",
    "            # Transition from the previous label to the current label\n",
    "            prev_label = labels[i - 1]\n",
    "            if prev_label not in transition_counts:\n",
    "                transition_counts[prev_label] = {}\n",
    "            if label not in transition_counts[prev_label]:\n",
    "                transition_counts[prev_label][label] = 0\n",
    "            transition_counts[prev_label][label] += 1\n",
    "\n",
    "print(sentence)\n",
    "print(labels)\n",
    "print()\n",
    "print(emission_counts)\n",
    "print()\n",
    "print(transition_counts)"
   ]
  },
  {
   "cell_type": "code",
   "execution_count": 8,
   "id": "7870fff2",
   "metadata": {},
   "outputs": [
    {
     "name": "stdout",
     "output_type": "stream",
     "text": [
      "{'START': {'NNP': 1.0}, 'NNP': {'NNP': 0.3333333333333333, ',': 0.3333333333333333, 'CD': 0.3333333333333333}, ',': {'CD': 0.5, 'MD': 0.5}, 'CD': {'NNS': 0.5, '.': 0.5}, 'NNS': {'JJ': 1.0}, 'JJ': {',': 0.5, 'NN': 0.5}, 'MD': {'VB': 1.0}, 'VB': {'DT': 1.0}, 'DT': {'NN': 0.5, 'JJ': 0.5}, 'NN': {'IN': 0.5, 'NNP': 0.5}, 'IN': {'DT': 1.0}}\n"
     ]
    }
   ],
   "source": [
    "transition_probabilities = {}\n",
    "for prev_label, transitions in transition_counts.items():\n",
    "    total_transitions = sum(transitions.values())\n",
    "    transition_probabilities[prev_label] = {}\n",
    "    for label, count in transitions.items():\n",
    "        transition_probabilities[prev_label][label] = count / total_transitions\n",
    "\n",
    "print(transition_probabilities)"
   ]
  },
  {
   "cell_type": "code",
   "execution_count": 9,
   "id": "246d0086",
   "metadata": {},
   "outputs": [
    {
     "name": "stdout",
     "output_type": "stream",
     "text": [
      "{'NNP': {'Pierre': 0.3333333333333333, 'Vinken': 0.3333333333333333, 'Nov.': 0.3333333333333333}, ',': {',': 1.0}, 'CD': {'61': 0.5, '29': 0.5}, 'NNS': {'years': 1.0}, 'JJ': {'old': 0.5, 'nonexecutive': 0.5}, 'MD': {'will': 1.0}, 'VB': {'join': 1.0}, 'DT': {'the': 0.5, 'a': 0.5}, 'NN': {'board': 0.5, 'director': 0.5}, 'IN': {'as': 1.0}, '.': {'.': 1.0}}\n"
     ]
    }
   ],
   "source": [
    "emission_probabilities = {}\n",
    "for label, emissions in emission_counts.items():\n",
    "    total_emissions = sum(emissions.values())\n",
    "    emission_probabilities[label] = {}\n",
    "    for word, count in emissions.items():\n",
    "        emission_probabilities[label][word] = count / total_emissions\n",
    "\n",
    "print(emission_probabilities)"
   ]
  },
  {
   "cell_type": "code",
   "execution_count": null,
   "id": "4be3e73a",
   "metadata": {},
   "outputs": [],
   "source": []
  }
 ],
 "metadata": {
  "kernelspec": {
   "display_name": "Python 3 (ipykernel)",
   "language": "python",
   "name": "python3"
  },
  "language_info": {
   "codemirror_mode": {
    "name": "ipython",
    "version": 3
   },
   "file_extension": ".py",
   "mimetype": "text/x-python",
   "name": "python",
   "nbconvert_exporter": "python",
   "pygments_lexer": "ipython3",
   "version": "3.8.5"
  }
 },
 "nbformat": 4,
 "nbformat_minor": 5
}
